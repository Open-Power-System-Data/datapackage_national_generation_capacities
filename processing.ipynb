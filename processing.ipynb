{
 "cells": [
  {
   "cell_type": "markdown",
   "metadata": {},
   "source": [
    "<table style=\"width:100%\">\n",
    "  <tr>\n",
    "    <td style=\"background-color:#EBF5FB; border: 1px solid #CFCFCF\">\n",
    "      <b>National generation capacity: Processing notebook</b>\n",
    "      <ul>\n",
    "          <li><a href=\"main.ipynb\">Main notebook</a></li>\n",
    "          <li>Processing notebook (this)</li>\n",
    "          <li><a href=\"tests.ipynb\">Check notebook</a></li>\n",
    "      </ul>\n",
    "      <br>This Notebook is part of the <a href=\"http://data.open-power-system-data.org/national_generation_capacity\">National Generation Capacity Datapackage</a> of <a href=\"http://open-power-system-data.org\">Open Power System Data</a>.\n",
    "    </td>\n",
    "  </tr>\n",
    "</table>"
   ]
  },
  {
   "cell_type": "markdown",
   "metadata": {},
   "source": [
    "# Table of Contents\n",
    "* [1. Introductory notes](#1.-Introductory-notes)\n",
    "* [2. Script setup](#2.-Script-setup)\n",
    "* [3. Data download and processing](#3.-Data-download-and-processing)\n",
    "\t* [3.1 Manually compiled dataset](#3.1-Manually-compiled-dataset)\n",
    "\t* [3.2 EUROSTAT data](#3.2-EUROSTAT-data)\n",
    "\t* [3.3 ENTSO-E data](#3.3-ENTSO-E-data)\n",
    "\t\t* [3.3.1 ENTSO-E statistical data](#3.3.1-ENTSO-E-statistical-data)\n",
    "\t\t* [3.3.2 ENTSO-E SO&AF data](#3.3.2-ENTSO-E-SO&AF-data)\n",
    "        * [3.3.3 ENTSO-E Transparency Plaftform](#3.3.1-ENTSO-E-Transparency-Platform)\n",
    "\t\t* [3.3.4 ENTSO-E Power Statistics](#3.3.4-ENTSO-E-Power-Statistics)\n",
    "\t* [3.4 Merge data sources](#3.4-Merge-data-sources)\n",
    "* [4. Convert stacked data to crosstable format](#4.-Convert-stacked-data-to-crosstable-format)\n",
    "* [5. Output](#5.-Output)\n",
    "\t* [5.1 Write results to file](#5.1-Write-results-to-file)\n",
    "\t* [5.2 Formatting of Excel tables](#5.2-Formatting-of-Excel-tables)\n",
    "\t* [5.3 Write checksums](#5.3-Write-checksums)\n",
    "* [6. Documentation of the data package](#6.-Documentation-of-the-data-package)"
   ]
  },
  {
   "cell_type": "markdown",
   "metadata": {},
   "source": [
    "# 1. Introductory notes"
   ]
  },
  {
   "cell_type": "markdown",
   "metadata": {},
   "source": [
    "The script processes the compiled nationally aggregated generation capacity for European countries. Due to varying formats and data specifications of references for national generation capacity, the script firstly focuses on rearranging the manually compiled data. Thus, the script itself does not collect, select, download or manage data from original sources. Secondly, international data sources, such as EUROSTAT and ENTSO-E, are directly downloaded from original web sources and complement the initial data set."
   ]
  },
  {
   "cell_type": "markdown",
   "metadata": {},
   "source": [
    "# 2. Script setup"
   ]
  },
  {
   "cell_type": "code",
   "execution_count": null,
   "metadata": {},
   "outputs": [],
   "source": [
    "# some functions and classes that are defined in seperate files\n",
    "import functions.helper_functions as func\n",
    "import functions.soaf as soaf\n",
    "\n",
    "# core packages\n",
    "import os\n",
    "import pandas as pd\n",
    "import numpy as np\n",
    "\n",
    "# packages to copy files, write sqllite data bases and manipulate excel files\n",
    "import shutil\n",
    "import sqlite3\n",
    "import openpyxl\n",
    "from openpyxl.styles import PatternFill, colors, Font, Alignment\n",
    "from openpyxl.utils import get_column_letter\n",
    "\n",
    "import yaml\n",
    "import json"
   ]
  },
  {
   "cell_type": "markdown",
   "metadata": {},
   "source": [
    "# 3. Data download and processing"
   ]
  },
  {
   "cell_type": "markdown",
   "metadata": {},
   "source": [
    "We compile data from different national and international sources. Firstly, national data sources are manually compiled due to varying data formats and specifications. Secondly, international sources are compiled directly and appended to the compiled data set. The international data sources comprise:\n",
    "- [EUROSTAT](http://ec.europa.eu/eurostat/product?code=nrg_113a&mode=view)\n",
    "- [ENTSO-E Statistical data](https://www.entsoe.eu/data/data-portal/miscellaneous/Pages/default.aspx)\n",
    "- [ENTSO-E System Outlook and Adequacy Forecast](https://www.entsoe.eu/outlooks/maf/Pages/default.aspx)\n",
    "- [ENTSO-E Transparency Platform](https://transparency.entsoe.eu/)\n",
    "- [ENTSO-E Power Statistics](https://www.entsoe.eu/data/power-stats/)\n",
    "\n",
    "In the following section, the data sets are downloaded and uploaded to Python."
   ]
  },
  {
   "cell_type": "markdown",
   "metadata": {},
   "source": [
    "## 3.1 Manually compiled dataset"
   ]
  },
  {
   "cell_type": "markdown",
   "metadata": {},
   "source": [
    "The manually compiled dataset is imported and rearranged to a DataFrame for further processing. The dataset comprises for each European country and specified generation technology different data entries, which are based on different sources. As these sources differ by country and year, information on the corresponding reference are directly given with the data entry. "
   ]
  },
  {
   "cell_type": "code",
   "execution_count": null,
   "metadata": {},
   "outputs": [],
   "source": [
    "data_file = 'National_Generation_Capacities.xlsx'\n",
    "filepath = os.path.join('input', data_file)\n",
    "\n",
    "# Read data into pandas\n",
    "data_raw = pd.read_excel(filepath,\n",
    "                         sheet_name='Summary',\n",
    "                         header=None,\n",
    "                         na_values=['-'],\n",
    "                         skiprows=0)\n",
    "\n",
    "\n",
    "\n",
    "\n",
    "# Deal with merged cells from Excel: fill first three rows with information\n",
    "data_raw.iloc[0:2] = data_raw.iloc[0:2].fillna(method='ffill', axis=1)\n",
    "\n",
    "# Set index for rows\n",
    "data_raw = data_raw.set_index([0])\n",
    "data_raw.index.name = 'technology'\n",
    "\n",
    "# Extract energylevels from raw data for later use\n",
    "energylevels_raw = data_raw.iloc[:, 0:5]\n",
    "\n",
    "energylevels_raw.head()"
   ]
  },
  {
   "cell_type": "code",
   "execution_count": null,
   "metadata": {},
   "outputs": [],
   "source": [
    "# Delete definition of energy levels from raw data\n",
    "data_raw.drop(data_raw.columns[[0, 1, 2, 3, 4, 5]], axis=1, inplace=True)\n",
    "\n",
    "level_names = ['country', 'type', 'year', 'source',\n",
    "               'source_type', 'weblink', 'capacity_definition']\n",
    "# Set multiindex column names\n",
    "data_raw.columns = pd.MultiIndex.from_arrays(data_raw[:7].values,\n",
    "                                             names=level_names)\n",
    "\n",
    "# Remove 3 rows which are already used as column names\n",
    "data_raw = data_raw[pd.notnull(data_raw.index)]\n",
    "\n",
    "# Extract the ordering of technologies\n",
    "technology_order = data_raw.index.str.replace('- ', '').values.tolist()\n",
    "\n",
    "data_raw.head()"
   ]
  },
  {
   "cell_type": "code",
   "execution_count": null,
   "metadata": {},
   "outputs": [],
   "source": [
    "data_raw.columns[data_raw.columns.duplicated()]"
   ]
  },
  {
   "cell_type": "code",
   "execution_count": null,
   "metadata": {},
   "outputs": [],
   "source": [
    "data_raw[data_raw.index.duplicated()]"
   ]
  },
  {
   "cell_type": "code",
   "execution_count": null,
   "metadata": {},
   "outputs": [],
   "source": [
    "# Reshape dataframe to list\n",
    "data_opsd = pd.DataFrame(data_raw.stack(level=level_names))\n",
    "\n",
    "# Reset index for dataframe\n",
    "data_opsd.reset_index(inplace=True)\n",
    "data_opsd['technology'] = data_opsd['technology'].str.replace('- ', '')\n",
    "\n",
    "data_opsd.rename(columns={0: 'capacity'}, inplace=True)\n",
    "data_opsd['capacity'] = pd.to_numeric(data_opsd['capacity'], errors='coerce')\n",
    "\n",
    "# For some source, permission to publish data\n",
    "banlist = ['ELIA', 'BMWi', 'Mavir']\n",
    "davail = 'data available, but cannot be provided'\n",
    "data_opsd.loc[data_opsd['source'].isin(banlist), 'comment'] = davail\n",
    "\n",
    "data_opsd.head()"
   ]
  },
  {
   "cell_type": "markdown",
   "metadata": {},
   "source": [
    "## 3.2 EUROSTAT data"
   ]
  },
  {
   "cell_type": "markdown",
   "metadata": {},
   "source": [
    "EUROSTAT publishes annual structural data on national electricity generation capacities for European countries. The dataset is available in the EUROSTAT database within the category 'Environment and Energy' ([nrg_113a](http://ec.europa.eu/eurostat/product?code=nrg_113a&mode=view))."
   ]
  },
  {
   "cell_type": "code",
   "execution_count": null,
   "metadata": {},
   "outputs": [],
   "source": [
    "url_eurostat = 'not available'\n",
    "\n",
    "filepath_eurostat = os.path.join('input', 'Eurostat', 'Eurostat.tsv.gz')\n",
    "\n",
    "data_eurostat = pd.read_csv(filepath_eurostat,\n",
    "                               compression='gzip',\n",
    "                               sep='\\t|,',\n",
    "                               engine='python'\n",
    "                               )\n",
    "data_eurostat.head()"
   ]
  },
  {
   "cell_type": "code",
   "execution_count": null,
   "metadata": {},
   "outputs": [],
   "source": [
    "id_vars = ['unit', 'product','indic_nrg', 'geo\\\\time']\n",
    "data_eurostat = pd.melt(data_eurostat, id_vars=id_vars,\n",
    "                        var_name='year', value_name='value')\n",
    "\n",
    "data_eurostat.head()"
   ]
  },
  {
   "cell_type": "code",
   "execution_count": null,
   "metadata": {},
   "outputs": [],
   "source": [
    "data_definition = pd.read_csv(os.path.join('input', 'definition_EUROSTAT_indic.txt'),\n",
    "                              header=None,\n",
    "                              names=['indic', 'description',\n",
    "                                     'energy source'],\n",
    "                              sep='\\t')\n",
    "\n",
    "data_eurostat = data_eurostat.merge(data_definition,\n",
    "                                    how='left',\n",
    "                                    left_on='indic_nrg',\n",
    "                                    right_on='indic')"
   ]
  },
  {
   "cell_type": "markdown",
   "metadata": {},
   "source": [
    "The classification of generation capacities in the EUROSTAT dataset is specified in [Regulation (EC) No 1099/2008](http://eur-lex.europa.eu/legal-content/EN/TXT/PDF/?uri=CELEX:32008R1099&from=EN) (Annex B, 3.3). The available EUROSTAT dataset [nrg_113a](http://ec.europa.eu/eurostat/product?code=nrg_113a&mode=view) covers the following indicators:\n",
    "\n",
    "|indic_nrg   | Description  | Technology in OPSD |\n",
    "|---|---|---|\n",
    "|**12_1176011**|\t**Electrical capacity, main activity producers - Combustible Fuels**|\tFossil fuels & bioenergy|\n",
    "|**12_1176012**|\t**Electrical capacity, autoproducers - Combustible Fuels**|\tFossil fuels & bioenergy|\n",
    "|*12_1176061*|\t*Electrical capacity, main activity producers - Mixed plants*|\t|\n",
    "|*12_1176101*|\t*Electrical capacity, main activity producers - Other Sources*|\t|\n",
    "|*12_1176102*|\t*Electrical capacity, autoproducers - Other Sources*|\t|\n",
    "|*12_1176111*|\t*Electrical capacity, main activity producers - Steam*||\n",
    "|*12_1176112*|\t*Electrical capacity, autoproducers - Steam*||\n",
    "|*12_1176121*|\t*Electrical capacity, main activity producers - Gas Turbine*||\n",
    "|*12_1176122*|\t*Electrical capacity, autoproducers - Gas Turbine*||\n",
    "|*12_1176131*|\t*Electrical capacity, main activity producers - Combined Cycle*||\n",
    "|*12_1176132*|\t*Electrical capacity, autoproducers - Combined Cycle*||\n",
    "|*12_1176141*|\t*Electrical capacity, main activity producers - Internal Combustion*||\n",
    "|*12_1176142*|\t*Electrical capacity, autoproducers - Internal Combustion*||\n",
    "|*12_1176401*|\t*Electrical capacity, main activity producers - Other Type of Generation*|\t|\n",
    "|*12_1176402*|\t*Electrical capacity, autoproducers - Other Type of Generation*|\t|\n",
    "|12_1176253|\tNet maximum capacity - Municipal Wastes|\tNon-renewable waste|\n",
    "|12_1176263|\tNet maximum capacity - Wood/Wood Wastes/Other Solid Wastes|\tOther bioenergy and renewable waste|\n",
    "|12_1176273|\tNet maximum capacity - Biogases|\tBiomass and biogas|\n",
    "|12_1176283|\tNet maximum capacity - Industrial Wastes (non-renewable)|\tNon-renewable waste|\n",
    "|12_1176343|\tNet maximum capacity - Liquid Biofuels|\tBiomass and biogas|\n",
    "|**12_1176031**|\t**Electrical capacity, main activity producers - Nuclear**|\tNuclear|\n",
    "|**12_1176032**|\t**Electrical capacity, autoproducers - Nuclear**|\tNuclear|\n",
    "|**12_1176051**|\t**Electrical capacity, main activity producers - Hydro**|\tHydro|\n",
    "|**12_1176052**|\t**Electrical capacity, autoproducers - Hydro**|\tHydro|\n",
    "|12_1176071|\tNet electrical capacity, main activity producers - Pure Pumped Hydro|\tPumped storage|\n",
    "|12_1176072|\tNet electrical capacity, autoproducers - Pure Pumped Hydro|\tPumped storage|\n",
    "|*12_117615*|\t*Net maximum capacity - Hydro <1 MW*|\t|\n",
    "|*12_117616*|\t*Net maximum capacity - Hydro >= 1 MW and <= 10 MW*|\t|\n",
    "|*12_117617*|\t*Net maximum capacity - Hydro 10 MW and over*|\t|\n",
    "|**12_1176301**|\t**Electrical capacity, main activity producers - Tide, wave and ocean**|\tMarine|\n",
    "|**12_1176302**|\t**Electrical capacity, autoproducers - Tide, wave and ocean**|\tMarine|\n",
    "|*12_1176303*|\t*Net maximum capacity - Tide, Wave, Ocean*||\n",
    "|**12_1176081**|\t**Electrical capacity, main activity producers - Geothermal**|\tGeothermal|\n",
    "|**12_1176082**|\t**Electrical capacity, autoproducers - Geothermal**|\tGeothermal|\n",
    "|*12_1176083*|\t*Net maximum capacity - Geothermal*|\t|\n",
    "|**12_1176091**|\t**Electrical capacity, main activity producers - Wind**|\tWind|\n",
    "|**12_1176092**|\t**Electrical capacity, autoproducers - Wind**|\tWind|\n",
    "|**12_1176233**|\t**Net maximum capacity - Solar Photovoltaic**|\tPhotovoltaics|\n",
    "|**12_1176243**|\t**Net maximum capacity - Solar Thermal Electric**|\tConcentrated solar power|\n",
    "\n",
    "**Bold** rows indicate top level classes within the EUROSTAT classification, whereas normal and *italic* rows cover different kinds of subclassifications. Especially within the top level 'Combustible fuels' different kinds of subcategorizations based on fuel or technology are available. Simarily, 'Hydro' is differentiated by type (e.g. pumped-hydro storage) or capacity classes. *Italic* rows are not further considered within the OPSD dataset due to the mismatch with existing technology classes."
   ]
  },
  {
   "cell_type": "code",
   "execution_count": null,
   "metadata": {},
   "outputs": [],
   "source": [
    "data_eurostat = data_eurostat[data_eurostat['energy source'].isnull() == False]\n",
    "\n",
    "values_as_string = data_eurostat['value'].astype(str)\n",
    "string_values = values_as_string.str.split(' ', 1).str[0]\n",
    "string_values.replace(':', np.nan, inplace=True)\n",
    "subset_nan = string_values.isnull()\n",
    "\n",
    "data_eurostat['value'] = string_values\n",
    "data_eurostat['year'] = data_eurostat['year'].astype(int)\n",
    "data_eurostat['value'] = data_eurostat['value'].astype(float)\n",
    "\n",
    "data_eurostat.head()"
   ]
  },
  {
   "cell_type": "code",
   "execution_count": null,
   "metadata": {},
   "outputs": [],
   "source": [
    "data_eurostat = data_eurostat.drop(['unit', 'product', 'indic_nrg',\n",
    "                                    'indic', 'description'], axis=1)\n",
    "\n",
    "data_eurostat = data_eurostat.rename(columns={'geo\\\\time': 'country',\n",
    "                                              'energy source': 'technology',\n",
    "                                              'value': 'capacity'})\n"
   ]
  },
  {
   "cell_type": "code",
   "execution_count": null,
   "metadata": {},
   "outputs": [],
   "source": [
    "data_eurostat['country'].replace({'UK': 'GB', 'EL': 'GR'}, inplace=True)\n",
    "drop_list = data_eurostat[data_eurostat['country'].isin(['EU28','EA19'])].index\n",
    "data_eurostat.drop(drop_list, inplace=True)\n",
    "\n",
    "by_columns = ['technology', 'year', 'country']\n",
    "data_eurostat = pd.DataFrame(data_eurostat.groupby(by_columns)['capacity'].sum())\n",
    "data_eurostat_isnull = data_eurostat['capacity'].isnull() == True\n",
    "data_eurostat.reset_index(inplace=True)\n",
    "\n",
    "data_eurostat.head()"
   ]
  },
  {
   "cell_type": "code",
   "execution_count": null,
   "metadata": {},
   "outputs": [],
   "source": [
    "eurostat_pivot = data_eurostat.pivot_table(values='capacity',\n",
    "                                 index=['country','year'],\n",
    "                                 columns='technology')\n",
    "\n",
    "eurostat_pivot.head()"
   ]
  },
  {
   "cell_type": "code",
   "execution_count": null,
   "metadata": {},
   "outputs": [],
   "source": [
    "eurostat_pivot['Differently categorized solar'] = 0\n",
    "eurostat_pivot['Solar'] = eurostat_pivot[['Photovoltaics', 'Concentrated solar power']].sum(axis=1)\n",
    "\n",
    "eurostat_pivot['Differently categorized wind'] = eurostat_pivot['Wind']\n",
    "\n",
    "bio_arr = ['Biomass and biogas', 'Other bioenergy and renewable waste']\n",
    "eurostat_pivot['Bioenergy and renewable waste'] = eurostat_pivot[bio_arr].sum(axis=1)\n",
    "\n",
    "res_arr = ['Hydro', 'Wind', 'Solar', 'Geothermal', 'Marine', 'Bioenergy and renewable waste']\n",
    "eurostat_pivot['Renewable energy sources'] = eurostat_pivot[res_arr].sum(axis=1)\n",
    "\n",
    "\n",
    "eurostat_pivot['Fossil fuels'] = eurostat_pivot['Fossil fuels'] - eurostat_pivot['Bioenergy and renewable waste']\n",
    "eurostat_pivot['Differently categorized fossil fuels'] = eurostat_pivot['Fossil fuels']\\\n",
    "                                                         - eurostat_pivot['Non-renewable waste']\n",
    "\n",
    "total_arr = ['Fossil fuels','Nuclear','Renewable energy sources']\n",
    "eurostat_pivot['Total'] = eurostat_pivot[total_arr].sum(axis=1)\n",
    "\n",
    "eurostat_pivot.head()"
   ]
  },
  {
   "cell_type": "code",
   "execution_count": null,
   "metadata": {},
   "outputs": [],
   "source": [
    "data_eurostat = eurostat_pivot.stack().reset_index().rename(columns={0: 'capacity'})\n",
    "\n",
    "data_eurostat['source'] = 'EUROSTAT'\n",
    "data_eurostat['source_type'] = 'Statistical Office'\n",
    "data_eurostat['capacity_definition'] = 'Unknown'\n",
    "data_eurostat['type'] = 'Installed capacity in MW'\n",
    "data_eurostat['weblink'] = url_eurostat\n",
    "\n",
    "data_eurostat.head()"
   ]
  },
  {
   "cell_type": "markdown",
   "metadata": {},
   "source": [
    "## 3.3 ENTSO-E data"
   ]
  },
  {
   "cell_type": "markdown",
   "metadata": {},
   "source": [
    "The ENTSO-E publishes annual data on national generation capacites in different specifications and formats. We use two relevant data sources from the ENTSOE-E, which comprises firstly statistical data within the [Data Portal (up to 2015)](https://www.entsoe.eu/data/data-portal/Pages/default.aspx) or [ENTSO-E Transparency Platform](https://transparency.entsoe.eu/), and secondly datasets compiled within the [ENTSO-E System Outlook & Adequacy Forecast (SO&AF)](https://www.entsoe.eu/outlooks/maf/Pages/default.aspx). The ENTSO-E Transparency Platform is currently not implemented as a data source for national generation capacities.\n",
    "\n",
    "The advantage of the ENTSO-E SO&AF is the higher granularity of the data with respect to the main fuel or technology. However, as the SO&AF provides a forecast on future system conditions in particular peak hours, the dataset also accounts for expected capacity changes throughout the years. Therefore, we only consider years which are closest to the publication year of the respective SO&AF."
   ]
  },
  {
   "cell_type": "markdown",
   "metadata": {},
   "source": [
    "### 3.3.1 ENTSO-E Statistical Data"
   ]
  },
  {
   "cell_type": "markdown",
   "metadata": {},
   "source": [
    "In the following, we use the statistical data available in the [Data Portal (up to 2015)](https://www.entsoe.eu/data/data-portal/Pages/default.aspx)."
   ]
  },
  {
   "cell_type": "code",
   "execution_count": null,
   "metadata": {},
   "outputs": [],
   "source": [
    "url_entsoe = 'https://docstore.entsoe.eu/Documents/Publications/Statistics/NGC_2010-2015.xlsx'\n",
    "\n",
    "filepath_entsoe = func.downloadandcache(url_entsoe, 'Statistics.xls',\n",
    "                                     os.path.join('ENTSO-E','Data Portal 2010-2015')\n",
    "                                     )\n",
    "\n",
    "data_entsoe_raw = pd.read_excel(filepath_entsoe)\n",
    "\n",
    "data_entsoe_raw.head()"
   ]
  },
  {
   "cell_type": "code",
   "execution_count": null,
   "metadata": {},
   "outputs": [],
   "source": [
    "dict_energy_source = {'hydro': 'Hydro',\n",
    "                      'of which storage': 'Reservoir',\n",
    "                      'of which run of river': 'Run-of-river',\n",
    "                      'of which pumped storage': 'Pumped storage',\n",
    "                      'nuclear': 'Nuclear',\n",
    "                      'of which wind': 'Wind',\n",
    "                      'of which solar': 'Solar',\n",
    "                      'of which biomass': 'Biomass and biogas',\n",
    "                      'fossil_fuels': 'Fossil fuels',\n",
    "                      'other': 'Other or unspecified energy sources',\n",
    "                      \"Country\": \"country\",\n",
    "                      'fossil_fueals': 'Fossil fuels'}\n",
    "\n",
    "data_entsoe_raw.rename(columns=dict_energy_source,\n",
    "                       inplace=True)\n",
    "\n",
    "data_entsoe_raw.drop(columns='representativity', inplace=True)\n",
    "\n",
    "data_entsoe_raw.head()"
   ]
  },
  {
   "cell_type": "code",
   "execution_count": null,
   "metadata": {},
   "outputs": [],
   "source": [
    "\n",
    "data_entsoe_raw['Differently categorized solar'] = data_entsoe_raw['Solar']\n",
    "data_entsoe_raw['Differently categorized wind'] = data_entsoe_raw['Wind']\n",
    "data_entsoe_raw['Bioenergy and renewable waste'] = data_entsoe_raw['Biomass and biogas']\n",
    "data_entsoe_raw['Differently categorized fossil fuels'] = data_entsoe_raw['Fossil fuels']\n",
    "\n",
    "\n",
    "data_entsoe_raw['Differently categorized hydro'] = (\n",
    "        data_entsoe_raw['Hydro']\n",
    "        - data_entsoe_raw['Run-of-river']\n",
    "        - data_entsoe_raw['Reservoir']\n",
    "        - data_entsoe_raw['Pumped storage'])\n",
    "\n",
    "data_entsoe_raw['Differently categorized renewable energy sources'] = (\n",
    "        data_entsoe_raw['renewable']\n",
    "        - data_entsoe_raw['Wind']\n",
    "        - data_entsoe_raw['Solar']\n",
    "        - data_entsoe_raw['Biomass and biogas'])\n",
    "\n",
    "data_entsoe_raw.drop(columns='renewable', inplace=True)\n",
    "\n",
    "data_entsoe_raw['Renewable energy sources'] = (\n",
    "        data_entsoe_raw['Hydro']\n",
    "        + data_entsoe_raw['Wind']\n",
    "        + data_entsoe_raw['Solar']\n",
    "        + data_entsoe_raw['Bioenergy and renewable waste']\n",
    "        + data_entsoe_raw['Differently categorized renewable energy sources'])\n",
    "\n",
    "data_entsoe_raw['Total'] = (\n",
    "        data_entsoe_raw['Renewable energy sources']\n",
    "        + data_entsoe_raw['Nuclear']\n",
    "        + data_entsoe_raw['Fossil fuels']\n",
    "        + data_entsoe_raw['Other or unspecified energy sources'])\n",
    "\n",
    "data_entsoe = pd.melt(data_entsoe_raw,\n",
    "                      id_vars=['country', 'year'],\n",
    "                      var_name='technology',\n",
    "                      value_name='capacity')\n",
    "\n",
    "data_entsoe.head()"
   ]
  },
  {
   "cell_type": "code",
   "execution_count": null,
   "metadata": {},
   "outputs": [],
   "source": [
    "data_entsoe['country'].replace('NI', 'GB', inplace=True)\n",
    "# set negative capacities to zero\n",
    "data_entsoe.loc[data_entsoe['capacity'] < 0, 'capacity'] = 0\n",
    "\n",
    "data_entsoe['source'] = 'ENTSO-E Data Portal'\n",
    "data_entsoe['source_type'] = 'Other association'\n",
    "data_entsoe['capacity_definition'] = 'Net capacity'\n",
    "data_entsoe['type'] = 'Installed capacity in MW'\n",
    "\n",
    "data_entsoe.head()"
   ]
  },
  {
   "cell_type": "markdown",
   "metadata": {},
   "source": [
    "### 3.3.2 ENTSO-E SO&AF data"
   ]
  },
  {
   "cell_type": "code",
   "execution_count": null,
   "metadata": {
    "scrolled": true
   },
   "outputs": [],
   "source": [
    "soafs = [soaf.SoafDataRaw('https://www.entsoe.eu/fileadmin/user_upload/_library/SDC/SOAF/SO_AF_2011_-_2025_.zip',\n",
    "                          'SO_AF_2011_-_2025_.zip',\n",
    "                          'SO&AF 2011 - 2025 Scenario B.xls',\n",
    "                          2011),\n",
    "\n",
    "        soaf.SoafDataRaw('https://www.entsoe.eu/fileadmin/user_upload/_library/SDC/SOAF/120705_SOAF_2012_Dataset.zip',\n",
    "                         '120705_SOAF_2012_Dataset.zip',\n",
    "                         'SOAF 2012 Scenario B.xls',\n",
    "                         2012),\n",
    "                             \n",
    "        soaf.SoafDataRaw('https://www.entsoe.eu/fileadmin/user_upload/_library/publications/entsoe/So_AF_2013-2030/130403_SOAF_2013-2030_dataset.zip',\n",
    "                         '130403_SOAF_2013-2030_dataset.zip',\n",
    "                         'ScB.xls',\n",
    "                         2013),\n",
    "                             \n",
    "        soaf.SoafDataRaw('https://www.entsoe.eu/Documents/SDC%20documents/SOAF/140602_SOAF%202014_dataset.zip',\n",
    "                         '140602_SOAF%202014_dataset.zip',\n",
    "                         'ScB.xlsx',\n",
    "                         2014),\n",
    "                             \n",
    "        soaf.SoafDataRaw('https://www.entsoe.eu/Documents/Publications/SDC/data/SO_AF_2015_dataset.zip',\n",
    "                         'SO_AF_2015_dataset.zip',\n",
    "                         os.path.join('SO&AF 2015 dataset', 'ScB_publication.xlsx'),\n",
    "                         2016)]\n",
    "\n",
    "\n",
    "data_soaf = pd.concat([s.transformed_df for s in soafs])\n",
    "\n",
    "# Correct that in the Soaf2015 datatset the year column is 2016 instead of 2015\n",
    "data_soaf['year'].replace({2016 : 2015}, inplace=True)\n",
    "\n",
    "data_soaf.head()"
   ]
  },
  {
   "cell_type": "code",
   "execution_count": null,
   "metadata": {},
   "outputs": [],
   "source": [
    "soaf_unstacked = func.unstackData(data_soaf)\n",
    "\n",
    "soaf_unstacked['Differently categorized solar'] = soaf_unstacked['Solar']\n",
    "\n",
    "soaf_unstacked['Differently categorized wind'] = soaf_unstacked['Wind']\\\n",
    "                                                - soaf_unstacked['Offshore']\\\n",
    "                                                - soaf_unstacked['Onshore']\n",
    "\n",
    "soaf_unstacked['Differently categorized hydro'] = soaf_unstacked['Hydro']\\\n",
    "                                                - soaf_unstacked['Run-of-river']\\\n",
    "                                                - soaf_unstacked['Reservoir including pumped storage']\n",
    "                                                \n",
    "\n",
    "soaf_unstacked['Bioenergy and renewable waste'] = soaf_unstacked['Biomass and biogas']\n",
    "                                                \n",
    "soaf_unstacked['Differently categorized renewable energy sources'] = (\n",
    "                                          soaf_unstacked['renewable']\n",
    "                                        - soaf_unstacked['Wind']\n",
    "                                        - soaf_unstacked['Solar']\n",
    "                                        - soaf_unstacked['Biomass and biogas'])\n",
    "\n",
    "soaf_unstacked.drop(columns='renewable', inplace=True)\n",
    "\n",
    "subtract_fossils_arr = ['Lignite','Hard coal','Oil','Natural gas','Mixed fossil fuels']\n",
    "\n",
    "soaf_unstacked['Differently categorized fossil fuels'] = soaf_unstacked['Fossil fuels']\\\n",
    "                                                        - soaf_unstacked[subtract_fossils_arr].sum(axis=1)\n",
    "\n",
    "\n",
    "res_arr = ['Solar','Wind','Bioenergy and renewable waste','Hydro',\n",
    "           'Differently categorized renewable energy sources']\n",
    "\n",
    "soaf_unstacked['Renewable energy sources'] = soaf_unstacked[res_arr].sum(axis=1)\n",
    "\n",
    "total_arr = ['Renewable energy sources','Fossil fuels','Nuclear',\n",
    "             'Other or unspecified energy sources']\n",
    "\n",
    "soaf_unstacked['Total'] = soaf_unstacked[total_arr].sum(axis=1)\n",
    "\n",
    "soaf_unstacked.head()"
   ]
  },
  {
   "cell_type": "code",
   "execution_count": null,
   "metadata": {
    "scrolled": true
   },
   "outputs": [],
   "source": [
    "data_soaf = func.restackData(soaf_unstacked)\n",
    "\n",
    "data_soaf.loc[data_soaf['capacity'] < 0, 'capacity'] = 0\n",
    "\n",
    "data_soaf['source'] = 'ENTSO-E SOAF'\n",
    "data_soaf['type'] = 'Installed capacity in MW'\n",
    "data_soaf['capacity_definition'] = 'Net capacity'\n",
    "data_soaf['source_type'] = 'Other association'\n",
    "data_soaf['weblink'] = url_entsoe\n",
    "\n",
    "data_soaf.head()"
   ]
  },
  {
   "cell_type": "markdown",
   "metadata": {},
   "source": [
    "### 3.3.3 ENTSO-E Transparency Platform"
   ]
  },
  {
   "cell_type": "code",
   "execution_count": null,
   "metadata": {},
   "outputs": [],
   "source": [
    "# file pattern for the single years\n",
    "filenamepattern = '_1_InstalledGenerationCapacityAggregated.csv'\n",
    "list_of_data_tables = [] # list to append\n",
    "\n",
    "# iterate over the years from 2015 to 2020\n",
    "for i in range(2015,2021):\n",
    "    filepath = os.path.join('input',\n",
    "                            'ENTSO-E',\n",
    "                            'Transparency',\n",
    "                            'InstalledGenerationCapacityAggregated',\n",
    "                            str(i) + filenamepattern)\n",
    "    \n",
    "    list_of_data_tables.append(pd.read_csv(filepath, delimiter=\"\\t\", encoding = \"UTF-16\"))\n",
    "\n",
    "# merge the datasets of the single of files into one pandas dataframe\n",
    "data_transparency = pd.concat(list_of_data_tables, ignore_index=True)\n",
    "\n",
    "data_transparency.head()"
   ]
  },
  {
   "cell_type": "code",
   "execution_count": null,
   "metadata": {},
   "outputs": [],
   "source": [
    "# rename columns according to the opsd standards\n",
    "data_transparency.rename(columns={'ProductionType': 'technology',\n",
    "                                  'AggregatedInstalledCapacity': 'capacity',\n",
    "                                  'MapCode': 'country',\n",
    "                                  'Year': 'year'}, inplace=True)\n",
    "\n",
    "# drop non relevant columns\n",
    "data_transparency = data_transparency.filter(items=['technology','capacity','country','year'], axis=1)\n",
    "# drop countries that are not part of opsd\n",
    "data_transparency = data_transparency[data_transparency['country'].isin(data_opsd.country.unique())]\n",
    "\n",
    "data_transparency.head()"
   ]
  },
  {
   "cell_type": "code",
   "execution_count": null,
   "metadata": {},
   "outputs": [],
   "source": [
    "# adapt energy source notation\n",
    "dict_energy_source = {'Biomass': 'Biomass and biogas',\n",
    "                      'Fossil Brown coal/Lignite': 'Lignite',\n",
    "                      'Fossil Coal-derived gas': 'Mixed fossil fuels',\n",
    "                      'Fossil Gas': 'Natural gas',\n",
    "                      'Fossil Hard coal': 'Hard coal',\n",
    "                      'Fossil Oil': 'Oil',\n",
    "                      'Fossil Oil shale': 'Oil',\n",
    "                      'Fossil Peat': 'Other fossil fuels',\n",
    "                      'Hydro Pumped Storage': 'Pumped storage',\n",
    "                      'Hydro Run-of-river and poundage': 'Run-of-river',\n",
    "                      'Hydro Water Reservoir': 'Reservoir',\n",
    "                      'Other': 'Other or unspecified energy sources',\n",
    "                      'Other renewable': 'Differently categorized renewable energy sources',\n",
    "                      'Waste': 'Other bioenergy and renewable waste',\n",
    "                      'Wind Offshore': 'Offshore',\n",
    "                      'Wind Onshore': 'Onshore',\n",
    "                      ' ': np.nan}\n",
    "\n",
    "data_transparency['technology'].replace(dict_energy_source, inplace=True)\n",
    "\n",
    "\n",
    "data_transparency.head()"
   ]
  },
  {
   "cell_type": "code",
   "execution_count": null,
   "metadata": {
    "scrolled": true
   },
   "outputs": [],
   "source": [
    "# add missing categories\n",
    "transparency_pivot = data_transparency.pivot_table(values='capacity',\n",
    "                                                   index=['country','year'],\n",
    "                                                   columns='technology')\n",
    "\n",
    "# technology level\n",
    "transparency_pivot['Differently categorized solar'] = transparency_pivot['Solar']\n",
    "transparency_pivot['Differently categorized natural gas'] = transparency_pivot['Natural gas']\n",
    "transparency_pivot['Non-renewable waste'] = 0\n",
    "transparency_pivot['Differently categorized fossil fuels'] = 0\n",
    "\n",
    "# level 3\n",
    "hydro_arr = ['Pumped storage', 'Reservoir', 'Run-of-river']\n",
    "transparency_pivot['Hydro'] = transparency_pivot[hydro_arr].sum(axis=1)\n",
    "\n",
    "wind_arr = ['Onshore', 'Offshore']\n",
    "transparency_pivot['Wind'] = transparency_pivot[wind_arr].sum(axis=1)\n",
    "\n",
    "# level 2\n",
    "bio_arr = ['Biomass and biogas', 'Other bioenergy and renewable waste']\n",
    "transparency_pivot['Bioenergy and renewable waste'] = transparency_pivot[bio_arr].sum(axis=1)\n",
    "\n",
    "#level 1\n",
    "res_arr = ['Hydro', 'Wind', 'Solar', 'Geothermal', 'Marine',\n",
    "           'Bioenergy and renewable waste', 'Differently categorized renewable energy sources']\n",
    "transparency_pivot['Renewable energy sources'] = transparency_pivot[res_arr].sum(axis=1)\n",
    "\n",
    "fossil_arr = ['Lignite', 'Hard coal', 'Oil', 'Natural gas', 'Mixed fossil fuels', 'Other fossil fuels']\n",
    "transparency_pivot['Fossil fuels'] = transparency_pivot[fossil_arr].sum(axis=1)\n",
    "\n",
    "# level 0\n",
    "total_arr = ['Fossil fuels','Nuclear','Renewable energy sources', 'Other or unspecified energy sources']\n",
    "transparency_pivot['Total'] = transparency_pivot[total_arr].sum(axis=1)\n",
    "\n",
    "transparency_pivot.reset_index(inplace=True)\n",
    "\n",
    "transparency_pivot.head()"
   ]
  },
  {
   "cell_type": "code",
   "execution_count": null,
   "metadata": {
    "scrolled": true
   },
   "outputs": [],
   "source": [
    "data_transparency = pd.melt(transparency_pivot,\n",
    "                      id_vars=['country', 'year'],\n",
    "                      var_name='technology',\n",
    "                      value_name='capacity')\n",
    "\n",
    "data_transparency = data_transparency.loc[data_transparency[\"year\"] < 2020, :]\n",
    "\n",
    "data_transparency['source'] = 'ENTSO-E Transparency Platform'\n",
    "data_transparency['source_type'] = 'Other association'\n",
    "data_transparency['capacity_definition'] = 'Net capacity'\n",
    "data_transparency['type'] = 'Installed capacity in MW'\n",
    "data_transparency['weblink'] = ('https://transparency.entsoe.eu/generation'\n",
    "                                '/r2/installedGenerationCapacityAggregation/show')\n",
    "\n",
    "data_transparency.head()"
   ]
  },
  {
   "cell_type": "markdown",
   "metadata": {},
   "source": [
    "### 3.3.4 ENTSO-E Power Statistics"
   ]
  },
  {
   "cell_type": "code",
   "execution_count": null,
   "metadata": {
    "scrolled": true
   },
   "outputs": [],
   "source": [
    "row_of_year = {2014: 9,\n",
    "               2015: 53,\n",
    "               2016: 97,\n",
    "               2017: 141,\n",
    "               2018: 185}\n",
    "\n",
    "dataframes = []\n",
    "\n",
    "for year, row in row_of_year.items():\n",
    "    # read the dataframe for each year\n",
    "    power_statistics_raw = pd.read_excel(os.path.join('input',\n",
    "                                                      'ENTSO-E',\n",
    "                                                      'Power Statistics',\n",
    "                                                      'NGC.xlsx'),\n",
    "                                         header=[0,1], \n",
    "                                         sheet_name='NGC',\n",
    "                                         skiprows=row,\n",
    "                                         nrows=42)\n",
    "    \n",
    "    # drop non relevant columns\n",
    "    power_statistics_raw.drop(columns='Coverage ratio in %', level=1, inplace=True)\n",
    "    power_statistics_raw.drop(columns=['Unnamed: 1_level_1','Unnamed: 2_level_1','Unnamed: 3_level_1','Unnamed: 4_level_1'], level=1, inplace=True)\n",
    "\n",
    "    # get rid of multi index\n",
    "    df = power_statistics_raw.set_index(year).stack().reset_index().drop('level_1', axis=1)\n",
    "    \n",
    "    # remove leftovers of multi index in the index column\n",
    "    df[\"technology\"] = df[year].apply(lambda x: x[0])\n",
    "    df.drop(columns=year, inplace=True)\n",
    "    \n",
    "    # stack df to the opsd standard format\n",
    "    stacked_df = df.melt(id_vars='technology', var_name='country', value_name='capacity')\n",
    "    \n",
    "    # add information about the year\n",
    "    stacked_df['year'] = year\n",
    "    \n",
    "    # append to the main list of dataframes\n",
    "    dataframes.append(stacked_df)\n",
    "    \n",
    "power_statistics = pd.concat(dataframes)\n",
    "power_statistics.head()"
   ]
  },
  {
   "cell_type": "code",
   "execution_count": null,
   "metadata": {},
   "outputs": [],
   "source": [
    "# drop countries that are not covered in opsd\n",
    "opsd_countries = data_opsd.country.unique()\n",
    "drop_list_country = power_statistics.loc[~power_statistics['country'].isin(opsd_countries)].index.to_list()\n",
    "power_statistics.drop(drop_list_country, inplace=True)\n",
    "\n",
    "# technology classes to be dropped\n",
    "tech_to_drop = ['Non-Renewable', 'Fossil fuels', 'Renewable','Non-renwable hydro',\n",
    "                'Total Waste', 'Bio', 'Renewable Hydro', 'Comments', 'Total NGC']\n",
    "\n",
    "drop_list_tech = power_statistics.loc[power_statistics['technology'].isin(tech_to_drop)].index.to_list()\n",
    "power_statistics.drop(drop_list_tech, inplace=True)\n",
    "\n",
    "# replace string with values that can be used in math operations \n",
    "power_statistics['capacity'].replace(to_replace='Not Expected', value=0, inplace=True)\n",
    "power_statistics['capacity'].replace(to_replace='Not Available', value=np.nan, inplace=True)\n",
    "\n",
    "power_statistics.head()"
   ]
  },
  {
   "cell_type": "code",
   "execution_count": null,
   "metadata": {},
   "outputs": [],
   "source": [
    "# Not included because already categorized in OPSD standard:\n",
    "# Nuclear, Solar, Geothermal, Wind\n",
    "dict_energy_source = {'Of which hydro pure pumped storage':'Pumped storage',\n",
    "                      'Of which Hydro mixed pumped storage (non renewable part)':'Pumped storage',\n",
    "                      'Of which Fossil Brown coal/Lignite':'Lignite',\n",
    "                      'Of which Fossil Coal-derived gas':'Differently categorized fossil fuels',\n",
    "                      'Of which Fossil Gas':'Natural gas',\n",
    "                      'Of which Fossil Hard coal':'Hard coal', \n",
    "                      'Of which Fossil Oil':'Oil',\n",
    "                      'Of which Fossil Oil shale':'Oil', \n",
    "                      'Of which Fossil Peat':'Differently categorized fossil fuels',\n",
    "                      'Of which Mixed fuels':'Mixed fossil fuels', \n",
    "                      'Of which Other fossil fuels':'Other fossil fuels',\n",
    "                      'Non-renewable Waste':'Non-renewable waste', \n",
    "                      'Other non-renewable':'Differently categorized fossil fuels',                      \n",
    "                      'Of which Wind offshore':'Offshore', \n",
    "                      'Of which Wind onshore':'Onshore', \n",
    "                      'Of which Solar PV':'Photovoltaics', \n",
    "                      'Of which Solar Thermal':'Differently categorized solar', \n",
    "                      'Of which Biomass':'Biomass and biogas', \n",
    "                      'Of which Biogas':'Biomass and biogas', \n",
    "                      'Renewable Waste':'Other bioenergy and renewable waste', \n",
    "                      'Of which Hydro Pure storage':'Reservoir',\n",
    "                      'Of which Hydro Run-of-river and pondage':'Run-of-river',\n",
    "                      'Of which Hydro mixed pumped storage (renewable part)':'Pumped storage',\n",
    "                      'Of which Hydro Marine (tidal/wave)':'Marine',\n",
    "                      'Other renewable (not listed)':'Differently categorized renewable energy sources',\n",
    "                      'Non identified (other not listed)':'Other or unspecified energy sources', \n",
    "                      'Total Hydro':'Hydro'}\n",
    "\n",
    "power_statistics[\"technology\"].replace(dict_energy_source, inplace=True)\n",
    "power_statistics.head()"
   ]
  },
  {
   "cell_type": "code",
   "execution_count": null,
   "metadata": {
    "scrolled": true
   },
   "outputs": [],
   "source": [
    "powerstats_pivot = power_statistics.pivot_table(values='capacity',\n",
    "                                                   index=['country','year'],\n",
    "                                                   columns='technology').reset_index()\n",
    "powerstats_pivot.head()"
   ]
  },
  {
   "cell_type": "code",
   "execution_count": null,
   "metadata": {},
   "outputs": [],
   "source": [
    "# technology level\n",
    "powerstats_pivot['Differently categorized natural gas'] = powerstats_pivot['Natural gas']\n",
    "\n",
    "# level 2\n",
    "powerstats_pivot['Bioenergy and renewable waste'] = (\n",
    "          powerstats_pivot['Biomass and biogas'] +\n",
    "          powerstats_pivot['Other bioenergy and renewable waste'])\n",
    "\n",
    "#level 1\n",
    "fossil_techs = ['Lignite', 'Hard coal', 'Oil', 'Natural gas', 'Non-renewable waste',\n",
    "               'Mixed fossil fuels', 'Other fossil fuels', 'Differently categorized fossil fuels']\n",
    "\n",
    "powerstats_pivot['Fossil fuels'] = powerstats_pivot[fossil_techs].sum(axis=1)\n",
    "\n",
    "res_tech = ['Hydro', 'Wind', 'Solar', 'Geothermal', 'Marine', 'Bioenergy and renewable waste',\n",
    "           'Differently categorized renewable energy sources']\n",
    "\n",
    "powerstats_pivot['Renewable energy sources'] = powerstats_pivot[res_tech].sum(axis=1)\n",
    "\n",
    "total_arr = ['Fossil fuels','Nuclear','Renewable energy sources']\n",
    "powerstats_pivot['Total'] = powerstats_pivot[total_arr].sum(axis=1)\n",
    "\n",
    "powerstats_pivot.head()"
   ]
  },
  {
   "cell_type": "code",
   "execution_count": null,
   "metadata": {
    "scrolled": true
   },
   "outputs": [],
   "source": [
    "data_power_statistics = powerstats_pivot.melt(id_vars=['country', 'year'],\n",
    "                                         var_name='technology',\n",
    "                                         value_name='capacity')\n",
    "\n",
    "data_power_statistics['source'] = 'ENTSO-E Power Statistics'\n",
    "data_power_statistics['source_type'] = 'Other association'\n",
    "data_power_statistics['capacity_definition'] = 'Net capacity'\n",
    "data_power_statistics['type'] = 'Installed capacity in MW'\n",
    "data_power_statistics['weblink'] = ('https://www.entsoe.eu/data/'\n",
    "                                    'power-stats/net-gen-capacity/')\n",
    "\n",
    "data_power_statistics.head()"
   ]
  },
  {
   "cell_type": "markdown",
   "metadata": {},
   "source": [
    "## 3.4 Merge data sources"
   ]
  },
  {
   "cell_type": "code",
   "execution_count": null,
   "metadata": {
    "scrolled": true
   },
   "outputs": [],
   "source": [
    "dataframes = [data_opsd, data_eurostat, data_soaf, data_entsoe, data_transparency, data_power_statistics]\n",
    "data = pd.concat(dataframes, sort=False)\n",
    "data['comment'] = data['comment'].fillna('').astype(str)\n",
    "\n",
    "col_order = ['technology', 'source', 'source_type', 'weblink', 'year', 'type',\n",
    "             'country', 'capacity_definition', 'capacity', 'comment']\n",
    "\n",
    "data = data[col_order]\n",
    "\n",
    "\n",
    "energy_source_mapping = pd.read_csv(os.path.join('input','energy_source_mapping.csv'),\n",
    "                                    index_col ='name')\n",
    "energy_source_mapping.replace({0: False, 1: True}, inplace=True)\n",
    "\n",
    "data = data.merge(energy_source_mapping,\n",
    "                  left_on='technology',\n",
    "                  right_index=True,\n",
    "                  how='left')\n",
    "\n",
    "new_level_names = {\"Level 0\": \"energy_source_level_0\",\n",
    "                   \"Level 1\": \"energy_source_level_1\",\n",
    "                   \"Level 2\": \"energy_source_level_2\",\n",
    "                   \"Level 3\": \"energy_source_level_3\",\n",
    "                   \"Technology level\": \"technology_level\"}\n",
    "\n",
    "data.rename(columns=new_level_names, inplace=True)\n",
    "\n",
    "data.head()"
   ]
  },
  {
   "cell_type": "markdown",
   "metadata": {},
   "source": [
    "# 4. Convert stacked data to crosstable format"
   ]
  },
  {
   "cell_type": "code",
   "execution_count": null,
   "metadata": {},
   "outputs": [],
   "source": [
    "cols = ['technology', 'source', 'source_type', 'weblink','year',\n",
    "        'type', 'country', 'capacity_definition', 'capacity']\n",
    "\n",
    "data_crosstable = pd.pivot_table(data[cols],\n",
    "                                 index=['technology'],\n",
    "                                 columns=['country', 'type', 'year',\n",
    "                                          'source', 'source_type',\n",
    "                                          'weblink', 'capacity_definition'],\n",
    "                                 values='capacity')\n",
    "\n",
    "# Apply initial ordering of technologies\n",
    "data_crosstable = data_crosstable.reindex(technology_order)\n",
    "\n",
    "# Delete index naming\n",
    "data_crosstable.index.name = None\n",
    "data_crosstable.columns.names = ('Country (ISO code)',\n",
    "                                 'Type of data', 'Year',\n",
    "                                 'Source', 'Type of source',\n",
    "                                 'Weblink',\n",
    "                                 'Capacity definition (net, gross, unknown)')\n",
    "\n",
    "data_crosstable.head()"
   ]
  },
  {
   "cell_type": "code",
   "execution_count": null,
   "metadata": {},
   "outputs": [],
   "source": [
    "energylevels_table = energylevels_raw[6:]\n",
    "energylevels_table.columns = pd.MultiIndex.from_arrays(energylevels_raw[:6].values,\n",
    "                                                       names=['country', 'type', 'year',\n",
    "                                                              'source', 'source_type',\n",
    "                                                              'capacity_definition'\n",
    "                                                              ])\n",
    "\n",
    "energylevels_table = energylevels_table.reset_index()\n",
    "energylevels_table['technology'] = energylevels_table['technology'].str.replace('- ', '')\n",
    "energylevels_table = energylevels_table.set_index('technology')\n",
    "\n",
    "# Delete index naming\n",
    "energylevels_table.index.name = None\n",
    "energylevels_table.columns.names = ('Country (ISO code)',\n",
    "                                    'Description', None,\n",
    "                                    None, None,\n",
    "                                    'Level')\n",
    "\n",
    "energylevels_table.head()"
   ]
  },
  {
   "cell_type": "markdown",
   "metadata": {},
   "source": [
    "# 5. Output"
   ]
  },
  {
   "cell_type": "markdown",
   "metadata": {},
   "source": [
    "Delete downloaded zip files"
   ]
  },
  {
   "cell_type": "code",
   "execution_count": null,
   "metadata": {
    "scrolled": true
   },
   "outputs": [],
   "source": [
    "for root, dirs, files in os.walk(\"download\"):\n",
    "    for file in files:\n",
    "        item = os.path.join(root, file)\n",
    "        if item.endswith(\".zip\"):\n",
    "            os.remove(item)\n",
    "            print(\"Deleted: \" + item)"
   ]
  },
  {
   "cell_type": "markdown",
   "metadata": {},
   "source": [
    "Copy input files"
   ]
  },
  {
   "cell_type": "code",
   "execution_count": null,
   "metadata": {
    "scrolled": true
   },
   "outputs": [],
   "source": [
    "orig_data_path = os.path.join('output', 'original_data')\n",
    "shutil.rmtree(orig_data_path, ignore_errors=True)\n",
    "func.copydir(os.path.join('input'), orig_data_path)\n",
    "func.copydir(os.path.join('download'), orig_data_path)"
   ]
  },
  {
   "cell_type": "markdown",
   "metadata": {},
   "source": [
    "## 5.1 Write results to file"
   ]
  },
  {
   "cell_type": "markdown",
   "metadata": {},
   "source": [
    "Write stacked data to formats: csv, xls and sql."
   ]
  },
  {
   "cell_type": "code",
   "execution_count": null,
   "metadata": {},
   "outputs": [],
   "source": [
    "# Write the result to file\n",
    "data.to_csv(os.path.join('output', 'national_generation_capacity_stacked.csv'),\n",
    "            encoding='utf-8', index_label='ID')\n",
    "\n",
    "# Write the results to excel file\n",
    "data.to_excel(os.path.join('output', 'national_generation_capacity_stacked.xlsx'),\n",
    "              sheet_name='output', index_label='ID')\n",
    "\n",
    "# Write the results to sql database\n",
    "data.to_sql('national_generation_capacity_stacked',\n",
    "            sqlite3.connect(os.path.join('output',\n",
    "                                         'national_generation_capacity.sqlite')),\n",
    "            if_exists=\"replace\", index_label='ID')"
   ]
  },
  {
   "cell_type": "markdown",
   "metadata": {},
   "source": [
    "Write data in human readable form to excel."
   ]
  },
  {
   "cell_type": "code",
   "execution_count": null,
   "metadata": {},
   "outputs": [],
   "source": [
    "# Write crosstable data to excel file\n",
    "writer = pd.ExcelWriter(os.path.join('output', 'national_generation_capacity.xlsx'))\n",
    "data_crosstable.to_excel(writer, sheet_name='output')\n",
    "energylevels_table.to_excel(writer, sheet_name='technology levels')\n",
    "writer.save()"
   ]
  },
  {
   "cell_type": "markdown",
   "metadata": {},
   "source": [
    "## 5.2 Formatting of Excel tables"
   ]
  },
  {
   "cell_type": "code",
   "execution_count": null,
   "metadata": {},
   "outputs": [],
   "source": [
    "outputxls = openpyxl.load_workbook(os.path.join('output',\n",
    "                                          'national_generation_capacity.xlsx'))\n",
    "\n",
    "ws1 = outputxls['output']\n",
    "ws2 = outputxls['technology levels']\n",
    "ws1_rows, ws1_cols = data_crosstable.shape\n",
    "amount_cols = ws1_cols + 1 # correct 0 index\n",
    "\n",
    "ws1.column_dimensions['A'].width = 50\n",
    "ws2.column_dimensions['A'].width = 50"
   ]
  },
  {
   "cell_type": "code",
   "execution_count": null,
   "metadata": {},
   "outputs": [],
   "source": [
    "blackfont = Font(color=colors.BLACK, italic=False, bold=False)\n",
    "blackfontitalic = Font(color=colors.BLACK, italic=True, bold=False)\n",
    "blackfontbold = Font(color=colors.BLACK, italic=False, bold=True)\n",
    "\n",
    "align0 = Alignment(horizontal='left', indent=0)\n",
    "align1 = Alignment(horizontal='left', indent=1)\n",
    "align2 = Alignment(horizontal='left', indent=2)\n",
    "\n",
    "# darkest grey\n",
    "colour = \"{0:02X}{1:02X}{2:02X}\".format(166, 166, 166)\n",
    "grey166 = PatternFill(fgColor=colour, bgColor=colour, patternType=\"solid\")\n",
    "\n",
    "# darker grey\n",
    "colour = \"{0:02X}{1:02X}{2:02X}\".format(191, 191, 191)\n",
    "grey191 = PatternFill(fgColor=colour, bgColor=colour, patternType=\"solid\")\n",
    "\n",
    "# lighter grey\n",
    "colour = \"{0:02X}{1:02X}{2:02X}\".format(217, 217, 217)\n",
    "grey217 = PatternFill(fgColor=colour, bgColor=colour, patternType=\"solid\")\n",
    "\n",
    "# lightest grey\n",
    "colour = \"{0:02X}{1:02X}{2:02X}\".format(242, 242, 242)\n",
    "grey242 = PatternFill(fgColor=colour, bgColor=colour, patternType=\"solid\")"
   ]
  },
  {
   "cell_type": "code",
   "execution_count": null,
   "metadata": {},
   "outputs": [],
   "source": [
    "for col in range(2, amount_cols+1):\n",
    "    colname = openpyxl.utils.cell.get_column_letter(col)\n",
    "    ws1.column_dimensions[colname].width = 16\n",
    "\n",
    "\n",
    "for col in range(1, amount_cols+1):\n",
    "    # format column name block\n",
    "    for row in range(2,8):\n",
    "        \n",
    "        ws1.cell(row=row, column=col).font = blackfont\n",
    "        \n",
    "\n",
    "    # format cells that contain the values\n",
    "    for row in range(9, 48):\n",
    "        ws1.cell(row=row, column=col).fill = grey242\n",
    "        ws1.cell(row=row, column=1).font = blackfontitalic\n",
    "        ws1.cell(row=row, column=1).alignment = align2\n",
    "    \n",
    "    \n",
    "    # format row 'Total' with dark grey\n",
    "    ws1.cell(row=47, column=col).fill = grey166\n",
    "    ws1.cell(row=47, column=col).font = blackfontbold\n",
    "    \n",
    "    \n",
    "    # format level 1\n",
    "    for row in [9, 22, 23, 46]:\n",
    "        ws1.cell(row=row, column=col).fill = grey191\n",
    "        ws1.cell(row=row, column=col).font = blackfontbold\n",
    "        ws1.cell(row=row, column=1).alignment = align0\n",
    "        \n",
    "    \n",
    "    # format level 2\n",
    "    for row in [10, 11, 12, 13, 18, 19, 20, 21, 24, 31, 35, 39, 40, 41, 45]:\n",
    "        ws1.cell(row=row, column=col).fill = grey217\n",
    "        ws1.cell(row=row, column=1).alignment = align1\n",
    "\n",
    "    \n",
    "ws1.cell(row=47, column=1).alignment = align0\n",
    "ws1.freeze_panes = ws1['B8'] #freeze first column and header rows"
   ]
  },
  {
   "cell_type": "code",
   "execution_count": null,
   "metadata": {},
   "outputs": [],
   "source": [
    "# do the same for the second worksheet 'technology levels' \n",
    "for col in range(1, 7):\n",
    "    colname = get_column_letter(col + 1)\n",
    "    ws2.column_dimensions[colname].width = 25\n",
    "    \n",
    "    for row in range(2, 8):\n",
    "        ws2.cell(row=row, column=col).font = blackfont\n",
    "        \n",
    "        \n",
    "    for row in range(9, 48):     \n",
    "        ws2.cell(row=row, column=col).fill = grey242\n",
    "        ws2.cell(row=row, column=1).font = blackfontitalic\n",
    "        ws2.cell(row=row, column=1).alignment = align2\n",
    "        \n",
    "        \n",
    "    # format row 'Total' with dark grey\n",
    "    ws2.cell(row=46, column=col).fill = grey166\n",
    "    \n",
    "    \n",
    "    # format level 1\n",
    "    for row in [8, 21, 22, 45]:\n",
    "        ws2.cell(row=row, column=col).fill = grey191\n",
    "        ws2.cell(row=row, column=col).font = blackfontbold\n",
    "        ws2.cell(row=row, column=1).font = blackfontbold\n",
    "        ws2.cell(row=row, column=1).alignment = align0\n",
    "        \n",
    "    \n",
    "    # format level 2\n",
    "    for row in [9, 10, 11, 12, 17, 18, 19, 20, 23, 30, 34, 38, 39, 40, 44]:\n",
    "        ws2.cell(row=row, column=col).fill = grey217\n",
    "        ws2.cell(row=row, column=1).alignment = align1\n",
    "\n",
    "    \n",
    "ws2.cell(row=46, column=1).alignment = align0"
   ]
  },
  {
   "cell_type": "code",
   "execution_count": null,
   "metadata": {},
   "outputs": [],
   "source": [
    "additional_notes = openpyxl.load_workbook(os.path.join('input',\n",
    "                                          'National_Generation_Capacities.xlsx'))['Additional notes']\n",
    "# copy additional notes to output file\n",
    "for col in range(1, 3):\n",
    "    for row in range(1, 10):\n",
    "        add_notes_value = additional_notes.cell(row=row, column=col).value\n",
    "        ws1.cell(row=row + 50, column=col).value = add_notes_value\n",
    "        ws1.cell(row=51, column=1).font = blackfontbold\n",
    "        ws1.cell(row=row + 51, column=1).font = blackfontitalic"
   ]
  },
  {
   "cell_type": "code",
   "execution_count": null,
   "metadata": {},
   "outputs": [],
   "source": [
    "outputxls.save(os.path.join('output', 'national_generation_capacity.xlsx'))"
   ]
  },
  {
   "cell_type": "markdown",
   "metadata": {},
   "source": [
    "## 5.3 Write checksums"
   ]
  },
  {
   "cell_type": "code",
   "execution_count": null,
   "metadata": {},
   "outputs": [],
   "source": [
    "files = ['national_generation_capacity.xlsx',\n",
    "        'national_generation_capacity_stacked.csv',\n",
    "        'national_generation_capacity_stacked.xlsx',\n",
    "        'national_generation_capacity.sqlite']\n",
    "\n",
    "hash_dict = {}\n",
    "filesize_dict = {}\n",
    "\n",
    "with open('checksums.txt', 'w') as f:\n",
    "    for file_name in files:\n",
    "        path = os.path.join('output', file_name)\n",
    "        file_hash = func.get_sha_hash(path)\n",
    "        hash_dict[file_name] = file_hash\n",
    "        filesize_dict[file_name] = os.path.getsize(path)\n",
    "        f.write('{},{}\\n'.format(file_name, file_hash))"
   ]
  },
  {
   "cell_type": "markdown",
   "metadata": {},
   "source": [
    "# 6. Documentation of the data package"
   ]
  },
  {
   "cell_type": "markdown",
   "metadata": {},
   "source": [
    "We document the data packages meta data in the specific format JSON as proposed by the Open Knowledge Foundation. See the Frictionless Data project by OKFN (http://data.okfn.org/) and the Data Package specifications (http://dataprotocols.org/data-packages/) for more details.\n",
    "\n",
    "In order to keep the notebook more readable, we first formulate the metadata in the human-readable YAML format using a multi-line string. We then parse the string into a Python dictionary and save that to disk as a JSON file."
   ]
  },
  {
   "cell_type": "code",
   "execution_count": null,
   "metadata": {},
   "outputs": [],
   "source": [
    "with open(os.path.join('input', 'metadata.yml'), 'r') as f:\n",
    "    metadata = yaml.load(f.read(), Loader=yaml.BaseLoader)\n",
    "    \n",
    "metadata['resources'][0]['hash'] = hash_dict['national_generation_capacity.xlsx']\n",
    "metadata['resources'][1]['hash'] = hash_dict['national_generation_capacity_stacked.csv']\n",
    "metadata['resources'][0]['bytes'] = filesize_dict['national_generation_capacity.xlsx']\n",
    "metadata['resources'][1]['bytes'] = filesize_dict['national_generation_capacity_stacked.csv']"
   ]
  },
  {
   "cell_type": "code",
   "execution_count": null,
   "metadata": {},
   "outputs": [],
   "source": [
    "datapackage_json = json.dumps(metadata, indent=4, separators=(',', ': '))\n",
    "    \n",
    "# Write the information of the metadata\n",
    "with open(os.path.join('output', 'datapackage.json'), 'w') as f:\n",
    "    f.write(datapackage_json)"
   ]
  },
  {
   "cell_type": "markdown",
   "metadata": {},
   "source": [
    "End of script."
   ]
  }
 ],
 "metadata": {
  "@webio": {
   "lastCommId": null,
   "lastKernelId": null
  },
  "anaconda-cloud": {},
  "kernelspec": {
   "display_name": "national_generation_capacity",
   "language": "python",
   "name": "national_generation_capacity"
  },
  "language_info": {
   "codemirror_mode": {
    "name": "ipython",
    "version": 3
   },
   "file_extension": ".py",
   "mimetype": "text/x-python",
   "name": "python",
   "nbconvert_exporter": "python",
   "pygments_lexer": "ipython3",
   "version": "3.8.3"
  }
 },
 "nbformat": 4,
 "nbformat_minor": 1
}
