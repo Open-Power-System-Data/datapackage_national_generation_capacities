{
 "cells": [
  {
   "cell_type": "markdown",
   "metadata": {},
   "source": [
    "<table style=\"width:100%\">\n",
    "  <tr>\n",
    "    <td style=\"background-color:#EBF5FB; border: 1px solid #CFCFCF\">\n",
    "      <b>National generation capacity: Main notebook</b>\n",
    "      <ul>\n",
    "          <li>Main notebook (this)</li>\n",
    "          <li><a href=\"processing.ipynb\">Processing notebook</a></li>\n",
    "          <li><a href=\"tests.ipynb\">Check notebook</a></li>\n",
    "      </ul>\n",
    "      <br>This Notebook is part of the <a href=\"http://data.open-power-system-data.org/national_generation_capacity\">National Generation Capacity Datapackage</a> of <a href=\"http://open-power-system-data.org\">Open Power System Data</a>.\n",
    "    </td>\n",
    "  </tr>\n",
    "</table>"
   ]
  },
  {
   "cell_type": "markdown",
   "metadata": {},
   "source": [
    "# 1. About Open Power System Data \n",
    "This notebook is part of the project [Open Power System Data](http://open-power-system-data.org). Open Power System Data develops a platform for free and open data for electricity system modeling. We collect, check, process, document, and provide data that are publicly available but currently inconvenient to use. \n",
    "More info on Open Power System Data:\n",
    "- [Information on the project on our website](http://open-power-system-data.org)\n",
    "- [Data and metadata on our data platform](http://data.open-power-system-data.org)\n",
    "- [Data processing scripts on our GitHub page](https://github.com/Open-Power-System-Data)\n",
    "\n",
    "# 2. About Jupyter Notebooks and GitHub\n",
    "This file is a [Jupyter Notebook](http://jupyter.org/). A Jupyter Notebook is a file that combines executable programming code with visualizations and comments in markdown format, allowing for an intuitive documentation of the code. We use Jupyter Notebooks for combined coding and documentation. We use Python 3 as programming language. All Notebooks are stored on [GitHub](https://github.com/), a platform for software development, and are publicly available. More information on our IT-concept can be found [here](http://open-power-system-data.org/it). See also our [step-by-step manual](http://open-power-system-data.org/step-by-step) how to use the dataplatform.\n",
    "\n",
    "# 3. About this Data Package\n",
    "We provide data in different chunks, or [datapackages](http://frictionlessdata.io/data-packages/). The one you are looking at is on [national generation capacity](http://data.open-power-system-data.org/national_generation_capacity/), \n",
    "\n",
    "This notebook processes data on aggregated generation capacity for European countries. The data includes generation capacities for nuclear, fossil and renewable fuels on an aggregated and, if possible, disaggregated technology levels. The majority of data reflects the years 2013 and 2014.\n",
    "The final output of the notebook is a list of national generation capacity differentiated by input fuels and technologies, as well as by different data sources."
   ]
  },
  {
   "cell_type": "markdown",
   "metadata": {},
   "source": [
    "# 4. Data sources\n",
    "The raw data is based on an extensive research of available national and international statistics. Due to the diverse structure of data sources, a compiled and structured dataset is used as input for further processing. Generally, five cross-national data sources are considered, complemented by national data sources.\n",
    "\n",
    "The cross-national data sources are:\n",
    "- [EUROSTAT \"Annual data on electricity infrastructure\"](http://ec.europa.eu/eurostat/product?code=nrg_113a&mode=view)\n",
    "- [ENTSOE \"Historical data\" (until 2015)](https://www.entsoe.eu/db-query/miscellaneous/net-generating-capacity)\n",
    "- [ENTSOE \"Power Statistics\" (from 2016)](https://www.entsoe.eu/data/power-stats/)\n",
    "- [ENTSOE \"Scenario Outlook & Adequacy Forecasts\"](https://www.entsoe.eu/outlooks/maf/Pages/default.aspx)\n",
    "- [ENTSOE \"Transparency Platform\"](https://transparency.entsoe.eu/)\n",
    "\n",
    "The cross-national data source [UN Statistical Office](http://data.un.org/Data.aspx?d=EDATA&f=cmID%3AEC) is only used for countries which are not listed in EUROSTAT data, i.e. Switzerland and Norway.\n",
    "\n",
    "Beside this, the data is complemented by national sources, which includes national statistical offices, ministries, regulatory authorities, transmission system operators, as well as other associations. All data sources are listed subsequently and in the `datapackage.json` including their link. If data are more granularly reported than on an annual basis, the end of the year values are used.\n",
    "\n",
    "|   Country |   Data type   |   Source      |   Type of Institution |   Description |   Type of document    |   Coverage    |\n",
    "| :--- | :--- | :---:|:---|:---|:---:|---:|\n",
    "|   Multiple    |   Aggregated capacities   |   [ENTSOE](https://www.entsoe.eu/outlooks/maf/Pages/default.aspx)     |   Association of European Transmission Network Operators  |   System Outlook and Adequacy Forecasts   |   Report  |   2011-2016|\n",
    "|   Multiple    |   Aggregated capacities   |   [ENTSOE](https://www.entsoe.eu/db-query/miscellaneous/net-generating-capacity)      |   Association of European Transmission Network Operators  |   Net generating capacity |   Statistics  |   1994-2015   |\n",
    "|   Multiple    |   Aggregated capacities   |   [ENTSOE](https://www.entsoe.eu/data/power-stats/net-gen-capacity/)      |   Association of European Transmission Network Operators  |   Net generating capacity |   Statistics  |   2015-2018   |\n",
    "|   Multiple    |   Aggregated capacities   |   [ENTSOE](https://transparency.entsoe.eu/)       |   Association of European Transmission Network Operators  |   Net generating capacity |   Statistics  |   2015-2019   |\n",
    "|   Multiple    |   Aggregated capacities   |   [EUROSTAT](http://ec.europa.eu/eurostat/product?code=nrg_113a&mode=view)        |   European Statistical Office |   Country Datasheets 2016 by the European Commission  |   Statistics  |   1990-2016   |\n",
    "|   Multiple    |   Aggregated capacities   |   [UN Statistical Office](http://data.un.org/Data.aspx?d=EDATA&f=cmID%3AEC)       |   Statistical Office of the United Nations    |   Electricity, net installed capacity of electric power plants    |   Statistics  |   1990-2013   |\n",
    "|   AT  |   Aggregated capacities   |   [e-control](http://www.e-control.at/statistik/strom/bestandsstatistik)      |   Regulatory Authority    |   Engpassleistung nach Kraftwerkstypen    |   Statistics  |   2013-2019   |\n",
    "|   BE  |   List of generation units    |   [ELIA](http://www.elia.be/en/grid-data/power-generation/generating-facilities)      |   Transmission System Operator    |   Overview of Generating Facilities   |   Statistics  |   actual  |\n",
    "|   BG  |   Aggregated capacities   |   [TSO Bulgaria ](http://www.eso.bg/?did=380)      |   Transmission System Operator    |   Generation Capacities   |   Report  |   2012, 2019    |\n",
    "|   CH  |   Aggregated capacities   |   [BFE](https://www.bfe.admin.ch/bfe/de/home/versorgung/statistik-und-geodaten/energiestatistiken/elektrizitaetsstatistik.html)       |   Ministry    |   Schweizerische Elektrizitätsstatistik (Electricity statistics) |   Report  |   2012-2019   |\n",
    "|   CZ  |   Aggregated capacities   |   [ERU](https://www.eru.cz/en/zpravy-o-provozu-elektrizacni-soustavy)     |   Regulatory Authority    |   Yearly Report on Operations |   Report  |   2013-2019   |\n",
    "|   DE  |   Aggregated capacities   |   [BMWi](https://www.bmwi.de/Redaktion/DE/Artikel/Energie/energiedaten-gesamtausgabe.html)        |   Ministry    |   Energiedaten (Energy Data)  |   Statistics  |   2013-2018   |\n",
    "|   DK  |   Aggregated capacities   |   [DEA](https://ens.dk/en/our-services/statistics-data-key-figures-and-energy-maps/annual-and-monthly-statistics)     |   Energy Agency   |   Annual Energy Statistics    |   Statistics  |   2013-2018   |\n",
    "|   EE  |   Aggregated capacities   |   [Statistics Estonia](http://pub.stat.ee/px-web.2001/Dialog/varval.asp?ma=FE032&ti=CAPACITY+AND+PRODUCTION+OF+POWER+PLANTS&path=../I_Databas/Economy/07Energy/02Energy_consumption_and_production/01Annual_statistics/&lang=1)       |   National Statistical Office |   Capacity and Production of Power Plants |   Statistics  |   2013-2018   |\n",
    "|   ES  |   Aggregated capacities   |   [REE](https://www.ree.es/en/datos/publications/national-statistical-series)     |   Transmission System Operator    |   National Indicators |   Statistics  |   2013-2020   |\n",
    "|   FR  |   Aggregated capacities   |   [RTE](https://www.services-rte.com/en/view-data-published-by-rte/production-installed-capacity.html)        |   Transmission System Operator    |   Installed capacity of units above 1 MW  |   Statistics  |   2014-2020  |\n",
    "|   FI  |   Aggregated capacities   |   [Statistics Finland](http://pxnet2.stat.fi/PXWeb/pxweb/en/StatFin_Passiivi/StatFin_Passiivi__ene__ehk/statfinpas_ehk_pxt_904_201500_en.px/)     |   National Statistical Office |   Capacity of Electricity Generation  |   Statistics  |   2012-2015   |\n",
    "|   GB  |   Aggregated capacities   |   [Department of Energy & Climate Change UK](https://www.gov.uk/government/statistics/electricity-chapter-5-digest-of-united-kingdom-energy-statistics-dukes)     |   Ministry    |   Plant Capacity  |   Statistics  |   2015-2019   |\n",
    "|   GR  |   Aggregated capacities   |   [REA](http://www.rae.gr/site/el_GR/categories_new/about_rae/actions/reports_national.csp)       |   Regulatory Authority    |   National Report |   Report  |   2012-2018   |\n",
    "|   HR  |   Aggregated capacities   |   [HOPS](https://www.hops.hr/en/basic-data)       |   Transmission System Operator    |   Basic Data  |   Report  |   2013-2018   |\n",
    "|   HU  |   List of generation units    |   [Mavir](https://www.mavir.hu/hu/web/mavir-en/power-plants-installed-capacity-data)     |   Transmission System Operator    |   Planned Installed Generation Capacity   |   Report  |   2013-2015   |\n",
    "|   IE  |   List of generation units    |   [Eirgrid](http://www.eirgridgroup.com/library/index.xml)        |   Transmission System Operator    |   All-Island Generation Capacity Statement    |   Report  |   2014-2015, 2019-2020   |\n",
    "|   IT  |   Installed capacity  |   [Terna](https://www.terna.it/en/electric-system/transparency-report/installed-capacity)     |   Transmission System Operator    |   Installed Generation Capacity   |   Statistics  |   2014-2017  |\n",
    "|   IT  |   The statistical data on electricity in Italy    |   [Terna](https://www.terna.it/en/electric-system/statistical-data-forecast/statistical-publications)     |   Transmission System Operator    |   Installed Generation Capacity   |   Report  |   2018-2019   |\n",
    "|   LT  |   List of generation units    |   [Litgrid](http://www.litgrid.eu/index.php/power-system/power-system-information/generation-capacity/546)        |   Transmission System Operator    |   Generation Capacities   |   Statistics  |   actual  |\n",
    "|   LU  |   Aggregated capacities   |   [ILR](https://web.ilr.lu/FR/Professionnels/Electricite/Commun/Statistiques)     |   Regulatory Authority    |   Centrales de productions au Luxembourg  |   Statistics  |   2013-2014   |\n",
    "|   LV  |   Aggregated capacities   |   [Central Statistical Bureau of Latvia](http://data1.csb.gov.lv/pxweb/en/vide/vide__energetika__ikgad/?tablelist=true)       |   National Statistical Office |   Electrical Capacity |   Statistics  |   2013-2019   |\n",
    "|   NL  |   Aggregated capacities   |   [Tennet](https://www.tennet.org/english/operational_management/export_data.aspx)        |   Transmission System Operator    |   Installed Generation Capacity   |   Statistics  |   2013-2018   |\n",
    "|   NO  |   Aggregated capacities   |   [Statistics Norway](https://www.ssb.no/en/energi-og-industri/statistikker/elektrisitet/aar)     |   National Statistical Office |   Electricity |   Statistics  |   2013-2018   |\n",
    "|   PL  |   Aggregated capacities   |   [CIRE](http://www.rynek-energii-elektrycznej.cire.pl/st,33,207,tr,75,0,0,0,0,0,podstawowe-dane.html)        |   Energy Market Information Center    |   Moc zainstalowana (Installed Capacity)  |   Statistics  |  2014, 2018  |\n",
    "|   PT  |   Aggregated capacities   |   [REN](https://www.ren.pt/en-GB/media/publicacoes)      |   Transmission System Operator    |   Technical Data  |   Report  |   2013-2018 |\n",
    "|   RO  |   Aggregated capacities   |   [ANRE](https://www.anre.ro/en/about-anre/annual-reports-archive)        |   Regulatory Authority    |   Report  |   Report  |   2013-2018 |\n",
    "|   SE  |   Aggregated capacities   |   [Svensk Energi](https://www.energiforetagen.se/statistik/energiaret/energiaret-2018/)     |   Energy Agency   |   Installed Capacity  |   Report  |   2013-2015  |\n",
    "|   SE  |   Aggregated capacities   |   [Swedish Energy Agency](https://www.energimyndigheten.se/en/facts-and-figures/publications/)        |   Energy Agency   |   Energy in Sweden    |   Report  |   2016-2018   |\n",
    "|   SI  |   Aggregated capacities   |   [Agencija za energijo](http://www.agen-rs.si/web/en/publications/-/asset_publisher/TCdo6cWN9Shk/content/te-1?_101_INSTANCE_TCdo6cWN9Shk_redirect=%2Fweb%2Fen%2Fpublications)        |   Regulatory Authority    |   Report on the Energy Sector in Slovenia |   Report  |   2011-2017   |\n",
    "|   SK  |   Aggregated capacities   |   [Statistical Office of Slovakia](https://slovak.statistics.sk/wps/portal/ext/themes/multi/energy/publications)      |   National Statistical Office |   Energy Statistics   |   Report  |   2013-2018   |"
   ]
  },
  {
   "cell_type": "markdown",
   "metadata": {},
   "source": [
    "# 5. Notation\n",
    "As we compile different source for national generation capacity, we define a consolidated classifiation scheme based on energy sources and technologies. The classification scheme is related to four different energy source levels, to reflect the structural relations among the categories:\n",
    "\n",
    "- **Energy source level 0** - Total generation capacity\n",
    "- **Energy source level 1** - Generation capacity by energy type (fossil, nuclear, renewable, other)\n",
    "- **Energy source level 2** - Generation capacity by fuel or energy source (e.g. coal, lignite, hard coal, natural gas, wind)\n",
    "- **Energy source level 3** - Generation capacity by fuel or energy source and detailed fuel for bioenergy\n",
    "- **Technology level** - Generation capacity by fuel and technology (e.g. combined cycle natural gas, gas turbine, onshore wind, offshore wind)\n",
    "\n",
    "Additionally, the definition of the energy source levels ensures that the total capacity is identical for each energy source level.\n",
    "\n",
    "Moreover, some specific comments on particular categories:\n",
    "\n",
    "|\tCategory/Technology\t|\tNote\t|\n",
    "| :--- | :--- | \n",
    "|*Differently categorized …*|\tThese categories comprise either capacities which cannot be assigned to specific categories at the same level, or capacities with unspecified fuel or technology.| \n",
    "|*Reservoir including pumped storage*|\tAggregated capacity of reservoirs and pumped storage, or combinations of both. Relevant for AT.|\n",
    "|*Pumped storage with natural inflow*|\tPumped storage with natural inflow, or reservoirs with pumping capacity.|\n",
    "\n",
    "\n",
    "The information on the technology levels is rearranged the following table. It displays the four general technology levels and the corresponding categories:"
   ]
  },
  {
   "cell_type": "code",
   "execution_count": null,
   "metadata": {},
   "outputs": [],
   "source": [
    "import os, pandas as pd;\n",
    "energylevels = pd.read_excel(os.path.join('input', 'National_Generation_Capacities.xlsx'),\n",
    "                             sheetname='Summary',\n",
    "                             header=0,\n",
    "                             na_values=['-'],\n",
    "                             parse_cols='A:F',\n",
    "                             index_col=0,\n",
    "                             skiprows=5)\n",
    "energylevels = energylevels[pd.notnull(energylevels.index)]\n",
    "energylevels = energylevels.replace({0: ' ', 1: True})\n",
    "energylevels.index.name = 'Technology'\n",
    "energylevels"
   ]
  },
  {
   "cell_type": "markdown",
   "metadata": {},
   "source": [
    "# 6. License\n",
    "This notebook as well as all other documents in this repository is published under the [MIT License](LICENSE.md)."
   ]
  }
 ],
 "metadata": {
  "@webio": {
   "lastCommId": null,
   "lastKernelId": null
  },
  "anaconda-cloud": {},
  "kernelspec": {
   "display_name": "Python 3",
   "language": "python",
   "name": "python3"
  },
  "language_info": {
   "codemirror_mode": {
    "name": "ipython",
    "version": 3
   },
   "file_extension": ".py",
   "mimetype": "text/x-python",
   "name": "python",
   "nbconvert_exporter": "python",
   "pygments_lexer": "ipython3",
   "version": "3.8.3"
  }
 },
 "nbformat": 4,
 "nbformat_minor": 1
}
